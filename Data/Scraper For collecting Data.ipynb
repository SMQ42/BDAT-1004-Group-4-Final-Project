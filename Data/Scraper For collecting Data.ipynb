{
 "cells": [
  {
   "cell_type": "code",
   "execution_count": null,
   "id": "2eaee91b",
   "metadata": {},
   "outputs": [],
   "source": [
    "import time\n",
    "\n",
    "while True:\n",
    "    from urllib.request import urlopen\n",
    "    import json\n",
    "    import pprint\n",
    "    \"\"\" trailer = urllib2.urlopen(trailerURL).read() \"\"\"\n",
    "\n",
    "    pp = pprint.PrettyPrinter(indent=4).pprint\n",
    "\n",
    "    moviesDict = {}\n",
    "\n",
    "    def createTrailerUrl(id):\n",
    "      return \"https://api.themoviedb.org/3/movie/\" + str(id) + \"/videos?api_key=623c0e68ef9f603cdecd201a0571c97f&language=en-US\"\n",
    "\n",
    "    def createListUrl(i):\n",
    "      return \"https://api.themoviedb.org/4/list/\" + str(i) + \"?page=1&api_key=623c0e68ef9f603cdecd201a0571c97f\"\n",
    "\n",
    "\n",
    "    def toJson(data):\n",
    "      return json.loads(data)\n",
    "\n",
    "    def loadData(api):\n",
    "      try:\n",
    "        res = urllib2.urlopen(api).read()\n",
    "        return res\n",
    "      except:\n",
    "        return \"{}\"\n",
    "\n",
    "\n",
    "    def main():\n",
    "      for i in range(1,5001):\n",
    "        pp(i)\n",
    "        data = loadData(createListUrl(i))\n",
    "        jsonRes = toJson(data)\n",
    "        if \"results\" in jsonRes:\n",
    "          moviesRes = jsonRes.get(\"results\")\n",
    "          for movie in moviesRes:\n",
    "            if movie[\"id\"] not in dict.keys(moviesDict):\n",
    "              trailerURL = createTrailerUrl(movie[\"id\"])\n",
    "              trailerRes = loadData(trailerURL)\n",
    "              trailerdata = toJson(trailerRes)\n",
    "              if trailerdata.has_key(\"results\") and len(trailerdata[\"results\"]) > 0:\n",
    "                moviesDict[movie[\"id\"]] = {}\n",
    "                moviesDict[movie[\"id\"]].update(movie)\n",
    "                moviesDict[movie[\"id\"]][\"trailer\"] = trailerdata[\"results\"][0]\n",
    "\n",
    "    main()\n",
    "    pp(len(moviesDict.keys()))\n",
    "    f = open(\"movie_file.json\", \"w\")\n",
    "    f.write(json.dumps(moviesDict))\n",
    "    f.close()\n",
    "\n",
    "    time.sleep(86400) # 86400 Seconds mean 24 Hours of time\n"
   ]
  },
  {
   "cell_type": "code",
   "execution_count": null,
   "id": "2f5e4b74",
   "metadata": {},
   "outputs": [],
   "source": []
  },
  {
   "cell_type": "code",
   "execution_count": null,
   "id": "ac6a97cd",
   "metadata": {},
   "outputs": [],
   "source": []
  },
  {
   "cell_type": "code",
   "execution_count": null,
   "id": "7785eabc",
   "metadata": {},
   "outputs": [],
   "source": []
  },
  {
   "cell_type": "code",
   "execution_count": null,
   "id": "9943a943",
   "metadata": {},
   "outputs": [],
   "source": []
  },
  {
   "cell_type": "code",
   "execution_count": null,
   "id": "a43046ef",
   "metadata": {},
   "outputs": [],
   "source": []
  }
 ],
 "metadata": {
  "kernelspec": {
   "display_name": "Python 3 (ipykernel)",
   "language": "python",
   "name": "python3"
  },
  "language_info": {
   "codemirror_mode": {
    "name": "ipython",
    "version": 3
   },
   "file_extension": ".py",
   "mimetype": "text/x-python",
   "name": "python",
   "nbconvert_exporter": "python",
   "pygments_lexer": "ipython3",
   "version": "3.9.12"
  }
 },
 "nbformat": 4,
 "nbformat_minor": 5
}
